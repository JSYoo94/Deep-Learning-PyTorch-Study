{
 "cells": [
  {
   "cell_type": "markdown",
   "metadata": {},
   "source": [
    "# DCGAN"
   ]
  },
  {
   "cell_type": "code",
   "execution_count": null,
   "metadata": {},
   "outputs": [],
   "source": [
    "import os, sys\n",
    "import torch, torchvision\n",
    "import torch.nn as nn\n",
    "\n",
    "from torchvision import transforms\n",
    "from torchvision.utils import save_image\n",
    "\n",
    "sys.path.append(os.pardir)\n",
    "from utils import *\n",
    "\n",
    "print(torch.__version__)"
   ]
  },
  {
   "cell_type": "markdown",
   "metadata": {},
   "source": [
    "### Settings"
   ]
  },
  {
   "cell_type": "code",
   "execution_count": null,
   "metadata": {},
   "outputs": [],
   "source": [
    "device = torch.device('cuda' if torch.cuda.is_available() else 'cpu')\n",
    "\n",
    "image_size = 28*28\n",
    "hidden_size = 256\n",
    "batch_size = 100\n",
    "latent_size = 64\n",
    "\n",
    "num_epochs = 20\n",
    "learning_rate = 0.0002"
   ]
  },
  {
   "cell_type": "code",
   "execution_count": null,
   "metadata": {},
   "outputs": [],
   "source": [
    "transform = transforms.Compose([\n",
    "    transforms.Resize(64),\n",
    "    transforms.ToTensor(),\n",
    "    transforms.Normalize(mean=(0.5, 0.5, 0.5),\n",
    "                        std=(0.5, 0.5, 0.5))\n",
    "])"
   ]
  },
  {
   "cell_type": "code",
   "execution_count": null,
   "metadata": {},
   "outputs": [],
   "source": [
    "FMNIST_dataset = torchvision.datasets.FashionMNIST(root='./data/FMNIST/',\n",
    "                                                  train=True,\n",
    "                                                  transform=transform,\n",
    "                                                  download=True)\n",
    "\n",
    "FMNIST_loader = torch.utils.data.DataLoader(dataset=FMNIST_dataset,\n",
    "                                           batch_size=batch_size,\n",
    "                                           shuffle=True)"
   ]
  },
  {
   "cell_type": "code",
   "execution_count": null,
   "metadata": {},
   "outputs": [],
   "source": [
    "MNIST_dataset = torchvision.datasets.MNIST(root='./data/MNIST/',\n",
    "                                                  train=True,\n",
    "                                                  transform=transform,\n",
    "                                                  download=True)\n",
    "\n",
    "MNIST_loader = torch.utils.data.DataLoader(dataset=MNIST_dataset,\n",
    "                                           batch_size=batch_size,\n",
    "                                           shuffle=True)"
   ]
  },
  {
   "cell_type": "code",
   "execution_count": null,
   "metadata": {},
   "outputs": [],
   "source": [
    "it = iter(MNIST_loader)\n",
    "(images, labels) = it.next()\n",
    "\n",
    "print(images.size())"
   ]
  },
  {
   "cell_type": "code",
   "execution_count": null,
   "metadata": {},
   "outputs": [],
   "source": [
    "sample_dir = 'samples/DCGAN/MNIST/'\n",
    "\n",
    "if not os.path.exists(sample_dir):\n",
    "    os.makedirs(sample_dir)"
   ]
  },
  {
   "cell_type": "markdown",
   "metadata": {},
   "source": [
    "### Functions"
   ]
  },
  {
   "cell_type": "code",
   "execution_count": null,
   "metadata": {},
   "outputs": [],
   "source": [
    "def reset_grad():\n",
    "    G_Optim.zero_grad()\n",
    "    D_Optim.zero_grad()\n",
    "    \n",
    "def weights_init(m):\n",
    "    classname = m.__class__.__name__\n",
    "    if classname.find('Conv') != -1:\n",
    "        m.weight.data.normal_(0.0, 0.02)\n",
    "    elif classname.find('BatchNorm') != -1:\n",
    "        m.weight.data.normal_(1.0, 0.02)\n",
    "        m.bias.data.fill_(0)"
   ]
  },
  {
   "cell_type": "markdown",
   "metadata": {},
   "source": [
    "### Model"
   ]
  },
  {
   "cell_type": "code",
   "execution_count": null,
   "metadata": {},
   "outputs": [],
   "source": [
    "G = nn.Sequential(\n",
    "    nn.ConvTranspose2d(latent_size, 1024, 4, 1, 0, bias=False),\n",
    "    nn.BatchNorm2d(1024),\n",
    "    nn.ReLU(),\n",
    "    nn.ConvTranspose2d(1024, 512, 4, 2, 1, bias=False),\n",
    "    nn.BatchNorm2d(512),\n",
    "    nn.ReLU(),\n",
    "    nn.ConvTranspose2d(512, 256, 4, 2, 1, bias=False),\n",
    "    nn.BatchNorm2d(256),\n",
    "    nn.ReLU(),\n",
    "    nn.ConvTranspose2d(256, 128, 4, 2, 1, bias=False),\n",
    "    nn.BatchNorm2d(128),\n",
    "    nn.ReLU(),\n",
    "    nn.ConvTranspose2d(128, 1, 4, 2, 1, bias=False),\n",
    "    nn.Tanh()\n",
    ").to(device)\n",
    "\n",
    "D = nn.Sequential(\n",
    "    nn.Conv2d(1, 128, 4, 2, 1, bias=False),\n",
    "    nn.LeakyReLU(0.2),\n",
    "    nn.Conv2d(128, 256, 4, 2, 1, bias=False),\n",
    "    nn.BatchNorm2d(256),\n",
    "    nn.LeakyReLU(0.2),\n",
    "    nn.Conv2d(256, 512, 4, 2, 1, bias=False),\n",
    "    nn.BatchNorm2d(512),\n",
    "    nn.LeakyReLU(0.2),\n",
    "    nn.Conv2d(512, 1024, 4, 2, 1, bias=False),\n",
    "    nn.BatchNorm2d(1024),\n",
    "    nn.LeakyReLU(0.2),\n",
    "    nn.Conv2d(1024, latent_size, 4, 1, 0, bias=False),\n",
    "    nn.Sigmoid()\n",
    ").to(device)"
   ]
  },
  {
   "cell_type": "code",
   "execution_count": null,
   "metadata": {},
   "outputs": [],
   "source": [
    "D.apply(weights_init)\n",
    "G.apply(weights_init)"
   ]
  },
  {
   "cell_type": "markdown",
   "metadata": {},
   "source": [
    "### Loss Function & Optimizer"
   ]
  },
  {
   "cell_type": "code",
   "execution_count": null,
   "metadata": {},
   "outputs": [],
   "source": [
    "criterion = nn.BCELoss()\n",
    "G_Optim = torch.optim.Adam(G.parameters(), lr=learning_rate, betas=(0.5, 0.999))\n",
    "D_Optim = torch.optim.Adam(D.parameters(), lr=learning_rate, betas=(0.5, 0.999))"
   ]
  },
  {
   "cell_type": "markdown",
   "metadata": {},
   "source": [
    "### Train"
   ]
  },
  {
   "cell_type": "code",
   "execution_count": null,
   "metadata": {},
   "outputs": [],
   "source": [
    "G_Losses = []\n",
    "D_Losses = []\n",
    "\n",
    "Dx = []\n",
    "DGz = []\n",
    "\n",
    "total_step = len(MNIST_loader)\n",
    "for epoch in range(num_epochs):\n",
    "    for i, ( images, _ ) in enumerate(MNIST_loader):\n",
    "        images = images.to(device)\n",
    "        \n",
    "        real_labels = torch.ones(batch_size, latent_size, 1, 1).to(device)\n",
    "        fake_labels = torch.zeros(batch_size, latent_size, 1, 1).to(device)\n",
    "        \n",
    "        #\n",
    "        #  D\n",
    "        #\n",
    "        outputs = D(images)     \n",
    "        D_Loss_Real = criterion(outputs, real_labels)\n",
    "        real_score = outputs\n",
    "        \n",
    "        z = torch.randn(batch_size, latent_size, 1, 1).to(device)\n",
    "        fake_images = G(z)\n",
    "        outputs = D(fake_images)\n",
    "        D_Loss_Fake = criterion(outputs, fake_labels)\n",
    "        fake_score = outputs\n",
    "        \n",
    "        D_Loss = D_Loss_Real + D_Loss_Fake\n",
    "        reset_grad()\n",
    "        D_Loss.backward()\n",
    "        D_Optim.step()\n",
    "        \n",
    "        #\n",
    "        #  G\n",
    "        #\n",
    "        \n",
    "        z = torch.randn(batch_size, latent_size, 1, 1).to(device)\n",
    "        fake_images = G(z)\n",
    "        outputs = D(fake_images)\n",
    "        G_Loss = criterion(outputs, real_labels)\n",
    "        \n",
    "        reset_grad()\n",
    "        G_Loss.backward()\n",
    "        G_Optim.step()\n",
    "        \n",
    "        if (i+1) % 20 == 0:\n",
    "             print('Epoch [{}/{}], Step [{}/{}], D_Loss : {:.4f}, G_Loss : {:.4f}, D(x) : {:.2f}, D(G(z)) : {:.2f}'\n",
    "                 .format(epoch+1, num_epochs, i+1, total_step, D_Loss.item(), G_Loss.item(), real_score.mean().item(), fake_score.mean().item()))\n",
    "       \n",
    "    if (epoch + 1) == 1:\n",
    "        save_image(denorm(images), os.path.join(sample_dir, 'real_images.png'))\n",
    "        \n",
    "    D_Losses.append(D_Loss.item())\n",
    "    G_Losses.append(G_Loss.item())\n",
    "    \n",
    "    Dx.append(real_score.mean().item())\n",
    "    DGz.append(fake_score.mean().item())\n",
    "        \n",
    "    save_image(denorm(fake_images), os.path.join(sample_dir, 'fake_images-{}.png'.format(epoch+1)))"
   ]
  },
  {
   "cell_type": "markdown",
   "metadata": {},
   "source": [
    "### Result"
   ]
  },
  {
   "cell_type": "code",
   "execution_count": null,
   "metadata": {},
   "outputs": [],
   "source": [
    "drawLoss({'G_Loss':G_Losses, 'D_Loss':D_Losses})"
   ]
  },
  {
   "cell_type": "code",
   "execution_count": null,
   "metadata": {},
   "outputs": [],
   "source": [
    "drawLoss({'Dx':Dx, 'DGz':DGz})"
   ]
  }
 ],
 "metadata": {
  "kernelspec": {
   "display_name": "PyTorch",
   "language": "python",
   "name": "pytorch"
  },
  "language_info": {
   "codemirror_mode": {
    "name": "ipython",
    "version": 3
   },
   "file_extension": ".py",
   "mimetype": "text/x-python",
   "name": "python",
   "nbconvert_exporter": "python",
   "pygments_lexer": "ipython3",
   "version": "3.7.1"
  }
 },
 "nbformat": 4,
 "nbformat_minor": 2
}
