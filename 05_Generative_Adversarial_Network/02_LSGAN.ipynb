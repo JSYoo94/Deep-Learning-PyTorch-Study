{
 "cells": [
  {
   "cell_type": "markdown",
   "metadata": {},
   "source": [
    "# LSGAN"
   ]
  },
  {
   "cell_type": "code",
   "execution_count": null,
   "metadata": {},
   "outputs": [],
   "source": [
    "import os, sys\n",
    "import torch, torchvision\n",
    "import torch.nn as nn\n",
    "\n",
    "from torchvision import transforms\n",
    "from torchvision.utils import save_image\n",
    "\n",
    "sys.path.append(os.pardir)\n",
    "from utils import *\n",
    "\n",
    "print(torch.__version__)"
   ]
  },
  {
   "cell_type": "markdown",
   "metadata": {},
   "source": [
    "### Settings"
   ]
  },
  {
   "cell_type": "code",
   "execution_count": null,
   "metadata": {},
   "outputs": [],
   "source": [
    "device = torch.device('cuda' if torch.cuda.is_available() else 'cpu')\n",
    "\n",
    "latent_size = 64\n",
    "image_size = 28*28\n",
    "hidden_size = 256\n",
    "batch_size = 100\n",
    "\n",
    "num_epochs = 200\n",
    "learning_rate = 0.0002"
   ]
  },
  {
   "cell_type": "code",
   "execution_count": null,
   "metadata": {},
   "outputs": [],
   "source": [
    "sample_dir = 'samples/LSGAN/FMNIST/'\n",
    "\n",
    "if not os.path.exists(sample_dir):\n",
    "    os.makedirs(sample_dir)"
   ]
  },
  {
   "cell_type": "code",
   "execution_count": null,
   "metadata": {},
   "outputs": [],
   "source": [
    "MNIST_dataset = torchvision.datasets.MNIST(root='./data/MNIST/',\n",
    "                                          train=True,\n",
    "                                          transform=transform,\n",
    "                                          download=True)\n",
    "\n",
    "MNIST_loader = torch.utils.data.DataLoader(dataset=MNIST_dataset,\n",
    "                                          batch_size=batch_size,\n",
    "                                          shuffle=True)"
   ]
  },
  {
   "cell_type": "code",
   "execution_count": null,
   "metadata": {},
   "outputs": [],
   "source": [
    "FMNIST_dataset = torchvision.datasets.FashionMNIST(root='./data/FMNIST/',\n",
    "                                                  train=True,\n",
    "                                                  transform=transform,\n",
    "                                                  download=True)\n",
    "\n",
    "FMNIST_loader = torch.utils.data.DataLoader(dataset=FMNIST_dataset,\n",
    "                                           batch_size=batch_size,\n",
    "                                           shuffle=True)"
   ]
  },
  {
   "cell_type": "markdown",
   "metadata": {},
   "source": [
    "### Model"
   ]
  },
  {
   "cell_type": "code",
   "execution_count": null,
   "metadata": {},
   "outputs": [],
   "source": [
    "G = nn.Sequential(\n",
    "    nn.Linear(latent_size, hidden_size),\n",
    "    nn.ReLU(),\n",
    "    nn.Linear(hidden_size, hidden_size),\n",
    "    nn.ReLU(),\n",
    "    nn.Linear(hidden_size, image_size),\n",
    "    nn.Tanh()\n",
    ")\n",
    "\n",
    "D = nn.Sequential(\n",
    "    nn.Linear(image_size, hidden_size),\n",
    "    nn.LeakyReLU(0.2),\n",
    "    nn.Linear(hidden_size, hidden_size),\n",
    "    nn.LeakyReLU(0.2),\n",
    "    nn.Linear(hidden_size, 1)\n",
    ")\n",
    "\n",
    "G = G.to(device)\n",
    "D = D.to(device)"
   ]
  },
  {
   "cell_type": "markdown",
   "metadata": {},
   "source": [
    "### Loss Function & Optimizer"
   ]
  },
  {
   "cell_type": "code",
   "execution_count": null,
   "metadata": {},
   "outputs": [],
   "source": [
    "criterion = nn.MSELoss()\n",
    "\n",
    "G_Optimizer = torch.optim.Adam(G.parameters(), lr=learning_rate, betas=(0.5, 0.999))\n",
    "D_Optimizer = torch.optim.Adam(D.parameters(), lr=learning_rate, betas=(0.5, 0.999))"
   ]
  },
  {
   "cell_type": "markdown",
   "metadata": {},
   "source": [
    "### Train"
   ]
  },
  {
   "cell_type": "code",
   "execution_count": null,
   "metadata": {},
   "outputs": [],
   "source": [
    "G_Losses = []\n",
    "D_Losses = []\n",
    "\n",
    "Dx = []\n",
    "DGz = []\n",
    "\n",
    "total_step = len(FMNIST_loader)\n",
    "for epoch in range(num_epochs):\n",
    "    for i, (images, _) in enumerate(FMNIST_loader):\n",
    "        images = images.reshape(batch_size, -1).to(device)\n",
    "        \n",
    "        real_labels = torch.ones(batch_size, 1).to(device)\n",
    "        fake_labels = torch.zeros(batch_size, 1).to(device)\n",
    "        \n",
    "        #\n",
    "        #  D\n",
    "        #\n",
    "        \n",
    "        outputs = D(images)\n",
    "        D_Loss_Real = criterion(outputs, real_labels)\n",
    "        Score_Real = outputs\n",
    "        \n",
    "        z = torch.randn(batch_size, latent_size).to(device)\n",
    "        images_fake = G(z)\n",
    "        outputs = D(images_fake)\n",
    "        D_Loss_Fake = criterion(outputs, fake_labels)\n",
    "        Score_Fake = outputs\n",
    "        \n",
    "        D_Loss = D_Loss_Real + D_Loss_Fake\n",
    "        \n",
    "        reset_grad()\n",
    "        D_Loss.backward()\n",
    "        D_Optimizer.step()\n",
    "        \n",
    "        #\n",
    "        #  G\n",
    "        #\n",
    "        \n",
    "        z = torch.randn(batch_size, latent_size).to(device)\n",
    "        images_fake = G(z)\n",
    "        outputs = D(images_fake)\n",
    "        \n",
    "        G_Loss = criterion(outputs, real_labels)\n",
    "        \n",
    "        reset_grad()\n",
    "        G_Loss.backward()\n",
    "        G_Optimizer.step()\n",
    "        \n",
    "        if (i+1) % 200 == 0:\n",
    "             print('Epoch [{}/{}], Step [{}/{}], D_Loss : {:.4f}, G_Loss : {:.4f}, D(x) : {:.2f}, D(G(z)) : {:.2f}'\n",
    "                 .format(epoch+1, num_epochs, i+1, total_step, D_Loss.item(), G_Loss.item(), Score_Real.mean().item(), Score_Fake.mean().item()))\n",
    "            \n",
    "    if (epoch + 1) == 1:\n",
    "        images = images.reshape(images.size(0), 1, 28, 28)\n",
    "        save_image(denorm(images), os.path.join(sample_dir, 'real_images.png'))\n",
    "        \n",
    "    D_Losses.append(D_Loss.item())\n",
    "    G_Losses.append(G_Loss.item())\n",
    "    \n",
    "    Dx.append(Score_Real.mean().item())\n",
    "    DGz.append(Score_Fake.mean().item())\n",
    "        \n",
    "    images_fake = images_fake.reshape(images_fake.size(0), 1, 28, 28)\n",
    "    save_image(denorm(images_fake), os.path.join(sample_dir, 'fake_images-{}.png'.format(epoch+1)))\n",
    "    \n",
    "torch.save(G.state_dict(), 'G_LSGAN.ckpt')\n",
    "torch.save(D.state_dict(), 'D_LSGAN.ckpt')"
   ]
  },
  {
   "cell_type": "markdown",
   "metadata": {},
   "source": [
    "### Result"
   ]
  },
  {
   "cell_type": "code",
   "execution_count": null,
   "metadata": {},
   "outputs": [],
   "source": [
    "drawLoss({'G_Loss':D_Losses, 'D_Loss':G_Losses})"
   ]
  },
  {
   "cell_type": "code",
   "execution_count": null,
   "metadata": {},
   "outputs": [],
   "source": [
    "drawLoss({'Dx':Dx, 'DGz':DGz})"
   ]
  }
 ],
 "metadata": {
  "kernelspec": {
   "display_name": "PyTorch",
   "language": "python",
   "name": "pytorch"
  },
  "language_info": {
   "codemirror_mode": {
    "name": "ipython",
    "version": 3
   },
   "file_extension": ".py",
   "mimetype": "text/x-python",
   "name": "python",
   "nbconvert_exporter": "python",
   "pygments_lexer": "ipython3",
   "version": "3.7.1"
  }
 },
 "nbformat": 4,
 "nbformat_minor": 2
}
