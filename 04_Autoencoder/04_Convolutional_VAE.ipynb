{
 "cells": [
  {
   "cell_type": "markdown",
   "metadata": {},
   "source": [
    "# Convolutional VAE "
   ]
  },
  {
   "cell_type": "code",
   "execution_count": null,
   "metadata": {
    "slideshow": {
     "slide_type": "-"
    }
   },
   "outputs": [],
   "source": [
    "import torch, torchvision\n",
    "import torch.nn as nn\n",
    "import torchvision.transforms as transforms\n",
    "import matplotlib.pyplot as plt\n",
    "\n",
    "from torch.utils.data import DataLoader\n",
    "from torch.autograd import Variable"
   ]
  },
  {
   "cell_type": "markdown",
   "metadata": {},
   "source": [
    "### Settings"
   ]
  },
  {
   "cell_type": "code",
   "execution_count": null,
   "metadata": {},
   "outputs": [],
   "source": [
    "device = torch.device('cuda' if torch.cuda.is_available() else 'cpu')\n",
    "\n",
    "batch_size = 100\n",
    "image_size = 28\n",
    "hidden_size = 800\n",
    "latent_size = 2\n",
    "\n",
    "learning_rate = 0.0002\n",
    "num_epochs = 50"
   ]
  },
  {
   "cell_type": "code",
   "execution_count": null,
   "metadata": {},
   "outputs": [],
   "source": [
    "train_data = torchvision.datasets.MNIST(root='./../data/MNIST/', train=True, transform=transforms.ToTensor(), download=True)\n",
    "test_data = torchvision.datasets.MNIST(root='./../data/MNIST/', train=False, transform=transforms.ToTensor(), download=True)\n",
    "\n",
    "train_loader = DataLoader(dataset=train_data, batch_size=batch_size, shuffle=True)\n",
    "test_loader = DataLoader(dataset=test_data, batch_size=batch_size, shuffle=True)"
   ]
  },
  {
   "cell_type": "markdown",
   "metadata": {},
   "source": [
    "### Model"
   ]
  },
  {
   "cell_type": "code",
   "execution_count": null,
   "metadata": {},
   "outputs": [],
   "source": [
    "class CVEncoder(nn.Module):\n",
    "    \n",
    "    def __init__(self):\n",
    "        super(CVEncoder, self).__init__()\n",
    "        \n",
    "        self.conv = nn.Sequential(\n",
    "                    nn.Conv2d(1, 8, 3, padding=1),\n",
    "                    nn.BatchNorm2d(8),\n",
    "                    nn.ReLU(),\n",
    "                    nn.MaxPool2d(2, 2),\n",
    "                    nn.Conv2d(8, 16, 3, padding=1),\n",
    "                    nn.BatchNorm2d(16),\n",
    "                    nn.ReLU(),\n",
    "                    nn.MaxPool2d(2, 2),\n",
    "                    nn.Conv2d(16, 32, 3, padding=1),\n",
    "                    nn.ReLU()\n",
    "        )\n",
    "        \n",
    "        self.i2mu = nn.Sequential(\n",
    "                    nn.Linear(32*7*7, hidden_size),\n",
    "                    nn.ReLU(),\n",
    "                    nn.Linear(hidden_size, hidden_size //2),\n",
    "                    nn.ReLU(),\n",
    "                    nn.Linear(hidden_size // 2, latent_size)\n",
    "        )\n",
    "        \n",
    "        self.i2log_var = nn.Sequential(\n",
    "                    nn.Linear(32*7*7, hidden_size),\n",
    "                    nn.ReLU(),\n",
    "                    nn.Linear(hidden_size, hidden_size // 2),\n",
    "                    nn.ReLU(),\n",
    "                    nn.Linear(hidden_size // 2, latent_size)\n",
    "        )\n",
    "        \n",
    "        self.relu = nn.ReLU()      \n",
    "        \n",
    "    def forward(self, input):\n",
    "        \n",
    "        output = self.conv(input)\n",
    "        output = output.view(batch_size, -1)\n",
    "        output = self.relu(output)\n",
    "        \n",
    "        mu = self.i2mu(output)\n",
    "        log_var = self.i2log_var(output)\n",
    "        \n",
    "        reparam = self.reparameterize(mu, log_var)\n",
    "        \n",
    "        return mu, log_var, reparam\n",
    "        \n",
    "    def reparameterize(self, mu, log_var):\n",
    "        \n",
    "        std = torch.exp(log_var / 2)\n",
    "        eps = torch.randn(std.size()).to(device)\n",
    "        \n",
    "        return mu + std * eps        "
   ]
  },
  {
   "cell_type": "code",
   "execution_count": null,
   "metadata": {},
   "outputs": [],
   "source": [
    "class CVDecoder(nn.Module):\n",
    "    \n",
    "    def __init__(self):\n",
    "        super(CVDecoder, self).__init__()\n",
    "        \n",
    "        self.fc = nn.Sequential(\n",
    "            nn.Linear(latent_size, hidden_size // 2),\n",
    "            nn.ReLU(),\n",
    "            nn.Linear(hidden_size // 2, hidden_size),\n",
    "            nn.ReLU(),\n",
    "            nn.Linear(hidden_size, 32*7*7),\n",
    "            nn.ReLU()\n",
    "        )\n",
    "        \n",
    "        self.deconv = nn.Sequential(\n",
    "            nn.ConvTranspose2d(32, 16, 3, 2, 1, 1),\n",
    "            nn.ReLU(),\n",
    "            nn.BatchNorm2d(16),\n",
    "            nn.ConvTranspose2d(16, 8, 3, 2, 1, 1),\n",
    "            nn.ReLU(),\n",
    "            nn.BatchNorm2d(8),\n",
    "            nn.ConvTranspose2d(8, 1, 3, 1, 1),\n",
    "            nn.BatchNorm2d(1)\n",
    "        )\n",
    "        \n",
    "        self.sigmoid = nn.Sigmoid()\n",
    "        self.relu = nn.ReLU()\n",
    "        \n",
    "    def forward(self, input):\n",
    "        \n",
    "        output = self.fc(input)\n",
    "        output = self.relu(output)\n",
    "        output = output.view(batch_size, 32, 7, 7)\n",
    "        \n",
    "        output = self.deconv(output)\n",
    "        output = self.sigmoid(output)\n",
    "        output = output.view(batch_size, 1, 28, 28)\n",
    "        \n",
    "        return output"
   ]
  },
  {
   "cell_type": "code",
   "execution_count": null,
   "metadata": {},
   "outputs": [],
   "source": [
    "class CVAE(nn.Module):\n",
    "    \n",
    "    def __init__(self):\n",
    "        super(CVAE, self).__init__()\n",
    "        \n",
    "        self.encoder = CVEncoder()\n",
    "        self.decoder = CVDecoder()\n",
    "        \n",
    "        self.BCELoss = nn.BCELoss(reduction='sum')\n",
    "        \n",
    "    def forward(self, input):\n",
    "        \n",
    "        mu, log_var, reparam = self.encoder(input)\n",
    "        reconst_input = self.decoder(reparam)\n",
    "        \n",
    "        BCE_loss = self.BCELoss(reconst_input, input)\n",
    "        KLD_loss = -0.5 * torch.sum(1 + log_var - mu**2 - log_var.exp())\n",
    "        \n",
    "        return reconst_input, BCE_loss + KLD_loss"
   ]
  },
  {
   "cell_type": "code",
   "execution_count": null,
   "metadata": {},
   "outputs": [],
   "source": [
    "model = CVAE().to(device)\n",
    "optimizer = torch.optim.Adam(model.parameters(), lr=learning_rate)\n",
    "\n",
    "total_step = len(train_loader)\n",
    "for epoch in range(num_epochs):\n",
    "    for i, (images, _) in enumerate(train_loader):\n",
    "        \n",
    "        images = Variable(images).to(device)\n",
    "        output, loss = model(images)\n",
    "        \n",
    "        optimizer.zero_grad()\n",
    "        loss.backward()\n",
    "        optimizer.step()\n",
    "        \n",
    "        if (i+1) % 100 == 0:\n",
    "            print('Epoch [{}/{}], Step [{}/{}], loss [{:.4f}]'.format(epoch+1, num_epochs, i+1, total_step, loss.item()))"
   ]
  },
  {
   "cell_type": "markdown",
   "metadata": {},
   "source": [
    "### Result"
   ]
  },
  {
   "cell_type": "code",
   "execution_count": null,
   "metadata": {},
   "outputs": [],
   "source": [
    "out_img = torch.squeeze(output.cpu().data)\n",
    "\n",
    "for i in range(output.size()[0]):\n",
    "    \n",
    "    fig = plt.figure()\n",
    "    origin = fig.add_subplot(1, 2, 1)\n",
    "    generated = fig.add_subplot(1, 2, 2)\n",
    "    \n",
    "    origin.imshow(torch.squeeze(images[i]), cmap='gray')\n",
    "    generated.imshow(out_img[i], cmap='gray')\n",
    "    \n",
    "    fig.show()"
   ]
  }
 ],
 "metadata": {
  "kernelspec": {
   "display_name": "PyTorch",
   "language": "python",
   "name": "pytorch"
  },
  "language_info": {
   "codemirror_mode": {
    "name": "ipython",
    "version": 3
   },
   "file_extension": ".py",
   "mimetype": "text/x-python",
   "name": "python",
   "nbconvert_exporter": "python",
   "pygments_lexer": "ipython3",
   "version": "3.7.1"
  }
 },
 "nbformat": 4,
 "nbformat_minor": 2
}
