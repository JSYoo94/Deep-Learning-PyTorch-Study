{
 "cells": [
  {
   "cell_type": "markdown",
   "metadata": {},
   "source": [
    "# Variational Autoencoder"
   ]
  },
  {
   "cell_type": "code",
   "execution_count": null,
   "metadata": {},
   "outputs": [],
   "source": [
    "import sys,os\n",
    "import torch, torchvision\n",
    "import torch.nn as nn\n",
    "import torchvision.transforms as transforms\n",
    "import matplotlib.pyplot as plt\n",
    "\n",
    "from torch.utils.data import DataLoader\n",
    "from torch.autograd import Variable\n",
    "\n",
    "sys.path.append(os.pardir)\n",
    "from utils import *"
   ]
  },
  {
   "cell_type": "markdown",
   "metadata": {},
   "source": [
    "### Settings"
   ]
  },
  {
   "cell_type": "code",
   "execution_count": null,
   "metadata": {},
   "outputs": [],
   "source": [
    "device = torch.device('cuda' if torch.cuda.is_available() else 'cpu')\n",
    "\n",
    "batch_size = 100\n",
    "image_size = 28\n",
    "hidden_size = 400\n",
    "latent_size = 2\n",
    "\n",
    "learning_rate = 0.001\n",
    "num_epochs = 5"
   ]
  },
  {
   "cell_type": "code",
   "execution_count": null,
   "metadata": {},
   "outputs": [],
   "source": [
    "train_data = torchvision.datasets.MNIST(root='./../data/MNIST/', train=True, transform=transforms.ToTensor(), download=True)\n",
    "test_data = torchvision.datasets.MNIST(root='./../data/MNIST/', train=False, transform=transforms.ToTensor(), download=True)\n",
    "\n",
    "train_loader = DataLoader(dataset=train_data, batch_size=batch_size, shuffle=True)\n",
    "test_loader = DataLoader(dataset=test_data, batch_size=batch_size, shuffle=True)"
   ]
  },
  {
   "cell_type": "markdown",
   "metadata": {},
   "source": [
    "### Model"
   ]
  },
  {
   "cell_type": "code",
   "execution_count": null,
   "metadata": {},
   "outputs": [],
   "source": [
    "class VEncoder(nn.Module):\n",
    "    \n",
    "    def __init__(self):\n",
    "        super(VEncoder, self).__init__()\n",
    "        \n",
    "        self.fc = nn.Sequential(\n",
    "            nn.Linear(image_size**2, hidden_size),\n",
    "            nn.ReLU(),\n",
    "            nn.Linear(hidden_size, hidden_size),\n",
    "            nn.ReLU(),\n",
    "        )\n",
    "        \n",
    "        self.i2mu = nn.Linear(hidden_size, latent_size)\n",
    "        self.i2log_var = nn.Linear(hidden_size, latent_size)\n",
    "        \n",
    "    def forward(self, input):        \n",
    "        \n",
    "        input = self.fc(input.view(batch_size, -1))        \n",
    "        mu = self.i2mu(input)\n",
    "        log_var = self.i2log_var(input)\n",
    "        \n",
    "        reparam = self.reparameterize(mu, log_var)\n",
    "        \n",
    "        return mu, log_var, reparam\n",
    "        \n",
    "    def reparameterize(self, mu, log_var):\n",
    "        \n",
    "        std = torch.exp(log_var / 2)\n",
    "        eps = torch.randn(std.size()).to(device)\n",
    "        \n",
    "        return mu + eps * std\n",
    "    \n",
    "encoder = VEncoder().to(device)"
   ]
  },
  {
   "cell_type": "code",
   "execution_count": null,
   "metadata": {},
   "outputs": [],
   "source": [
    "class VDecoder(nn.Module):\n",
    "    \n",
    "    def __init__(self):\n",
    "        super(VDecoder, self).__init__()\n",
    "        \n",
    "        self.fc = nn.Sequential(\n",
    "            nn.Linear(latent_size, hidden_size),\n",
    "            nn.ReLU(),\n",
    "            nn.Linear(hidden_size, hidden_size),\n",
    "            nn.ReLU(),\n",
    "            nn.Linear(hidden_size, image_size**2),\n",
    "            nn.Sigmoid()\n",
    "        )\n",
    "        \n",
    "    def forward(self, input):\n",
    "                \n",
    "        output = self.fc(input)\n",
    "        output = output.view(batch_size, 1, image_size, image_size)\n",
    "        \n",
    "        return output\n",
    "\n",
    "decoder = VDecoder().to(device)"
   ]
  },
  {
   "cell_type": "markdown",
   "metadata": {},
   "source": [
    "### Loss Function & Optimizer"
   ]
  },
  {
   "cell_type": "code",
   "execution_count": null,
   "metadata": {},
   "outputs": [],
   "source": [
    "Reconstuct_Error = nn.BCELoss(reduction='sum')\n",
    "\n",
    "def criterion(input, output, mu, log_var):\n",
    "    \n",
    "    Reconst_loss = Reconstuct_Error(output, input)\n",
    "    Regularization =  -0.5 * torch.sum(1 + log_var - mu**2 - log_var.exp())\n",
    "\n",
    "    return Reconst_loss + Regularization\n",
    "\n",
    "parameters = list(encoder.parameters()) + list(decoder.parameters())\n",
    "optimizer = torch.optim.Adam(parameters, lr=learning_rate)"
   ]
  },
  {
   "cell_type": "markdown",
   "metadata": {},
   "source": [
    "### Train"
   ]
  },
  {
   "cell_type": "code",
   "execution_count": null,
   "metadata": {},
   "outputs": [],
   "source": [
    "all_losses = []\n",
    "\n",
    "total_step = len(train_loader)\n",
    "for epoch in range(num_epochs):\n",
    "    for i, (images, _) in enumerate(train_loader):\n",
    "        \n",
    "        input = Variable(images).to(device)\n",
    "        \n",
    "        mu, log_var, reparam = encoder(input)\n",
    "        output = decoder(reparam)\n",
    "        \n",
    "        loss = criterion(input, output, mu, log_var)\n",
    "        \n",
    "        optimizer.zero_grad()\n",
    "        loss.backward()\n",
    "        optimizer.step()\n",
    "        \n",
    "        if (i+1) % 100 == 0:\n",
    "            print('Epoch [{}/{}], Step [{}/{}], loss [{:.4f}]'.format(epoch+1, num_epochs, i+1, total_step, loss.item()))\n",
    "            all_losses.append(loss.item())\n",
    "            \n",
    "    save_images(output, './images/VAE','VAE_{}.png'.format(epoch+1))\n",
    "    \n",
    "torch.save(encoder.state_dict(), './models/VAE_Encoder.ckpt')\n",
    "torch.save(decoder.state_dict(), './models/VAE_Decoder.ckpt')"
   ]
  },
  {
   "cell_type": "code",
   "execution_count": null,
   "metadata": {},
   "outputs": [],
   "source": [
    "drawLoss({'VAE':all_losses})"
   ]
  },
  {
   "cell_type": "markdown",
   "metadata": {},
   "source": [
    "### Test"
   ]
  },
  {
   "cell_type": "code",
   "execution_count": null,
   "metadata": {},
   "outputs": [],
   "source": [
    "for i , (images, _) in enumerate(test_loader):\n",
    "    \n",
    "    input = Variable(images).to(device)\n",
    "    \n",
    "    _, _, reparam = encoder(input)\n",
    "    output = decoder(reparam)\n",
    "    \n",
    "    test = output.cpu()\n",
    "    grid_test = torchvision.utils.make_grid(test, nrow=10)\n",
    "    \n",
    "    plt.imshow(grid_test.detach().numpy().transpose(1, 2, 0))\n",
    "    plt.show()"
   ]
  }
 ],
 "metadata": {
  "kernelspec": {
   "display_name": "PyTorch",
   "language": "python",
   "name": "pytorch"
  },
  "language_info": {
   "codemirror_mode": {
    "name": "ipython",
    "version": 3
   },
   "file_extension": ".py",
   "mimetype": "text/x-python",
   "name": "python",
   "nbconvert_exporter": "python",
   "pygments_lexer": "ipython3",
   "version": "3.7.1"
  }
 },
 "nbformat": 4,
 "nbformat_minor": 2
}
